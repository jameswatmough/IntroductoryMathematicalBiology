{
  "cells": [
    {
      "cell_type": "raw",
      "metadata": {},
      "source": [
        "---\n",
        "title: The GillespieSSA routines\n",
        "---"
      ]
    },
    {
      "cell_type": "markdown",
      "metadata": {},
      "source": [
        "## Initial set up\n",
        "\n",
        "Once you've played around a bit, start up a new session and load up the Gillespie routines"
      ]
    },
    {
      "cell_type": "code",
      "metadata": {},
      "source": [
        "library(GillespieSSA2)"
      ],
      "execution_count": null,
      "outputs": []
    },
    {
      "cell_type": "markdown",
      "metadata": {},
      "source": [
        "You may need to install the package first. See me if you need help with that.\n",
        "\n",
        "## The simple birth death process\n",
        "\n",
        "Let's start with the simple birth death process.\n",
        "This consists of a single state, which we'll call `population`, and two transitions, or events: birth and death.\n",
        "\n",
        "Our model consists of specifying functions for the rates for the two events.\n",
        "\n",
        "First, focus on a single individual and suppose this individual gives birth at rate $b$ and dies at rate $d$.\n",
        "For simplicity,  suppose the new born individual behaves exactly as the first individual.  In particular,  she is born a reproductive adult.\n",
        "\n",
        "In a population of $N$ such organisms, operating independently, births would occur at rate $bN$ and deaths at rate $dN$.\n",
        "\n",
        "Our model has a single state variable, which we'll call `population`, and a two parameters: a birth rate `b`, and a death rate `d`.  We also need to set a starting value for the population, which we often view as another parameter (the initial state). \n",
        "\n",
        "It is convenient to use named tuples to store defaults for the parameters and initial states.  "
      ]
    },
    {
      "cell_type": "code",
      "metadata": {},
      "source": [
        "initial_state <- c(population = 1)\n",
        "params <- c(b = 0.10, d = 0.02)"
      ],
      "execution_count": null,
      "outputs": []
    },
    {
      "cell_type": "markdown",
      "metadata": {},
      "source": [
        "The SSA algorithm needs the model expressed in terms of `reactions` and `rates`, which the `GillespieSSA2` package refers to as *propensity functions*.    We have two of these: one for birth and one for death."
      ]
    },
    {
      "cell_type": "code",
      "metadata": {},
      "source": [
        "reactions <- list(\n",
        "  # propensity function     effects             name for reaction\n",
        "  reaction(\"b * population\", c(population = +1), \"birth\"),\n",
        "  reaction(\"d * population\", c(population = -1), \"death\")\n",
        ")"
      ],
      "execution_count": null,
      "outputs": []
    },
    {
      "cell_type": "markdown",
      "metadata": {},
      "source": [
        "To run the simulation, we call `ssa` with the initial state, reactions, parameters, and a final time.  There are several other options you can pass to the routine, but these all have reasonable defaults.   There are a few options for expressing the *rate*, or propensity function.  The simplest is likely to enter it as a `c++` expression wrapped in quotes."
      ]
    },
    {
      "cell_type": "code",
      "metadata": {},
      "source": [
        "out <- ssa(\n",
        "  initial_state = initial_state,\n",
        "  reactions = reactions,\n",
        "  params = params,\n",
        "  method = ssa_exact(),\n",
        "  final_time = 100,\n",
        "  census_interval = .001,\n",
        "  verbose = TRUE\n",
        "  )\n",
        "\n",
        "plot_ssa(out)"
      ],
      "execution_count": null,
      "outputs": []
    },
    {
      "cell_type": "markdown",
      "metadata": {},
      "source": [
        "Our simulation run is now stored in `out`.  Entering `names(out)` or `summary(out)` at the command prompt shows what the simulation returns.  `head(out$time)` and `head(out$state)` show the first few events.   `plot_ssa`  provides a basic plot of the results.\n",
        "\n",
        "## Density dependent rates\n",
        "\n",
        "A simple extension of this to include a *density dependence* is to make the death rate nonlinear.  For example,\n",
        "replace the constant *per capita* death rate $d$ with the linearly increasing rate $d + (b-d)N/K$.\n",
        "\n",
        "\n",
        "**Question:**  what is the value of $N$ for which the birth rate $bN$ matches the death rate $\\left( d + (b-d)\\frac{N}{K} \\right) N$?\n"
      ]
    },
    {
      "cell_type": "code",
      "metadata": {},
      "source": [
        "initial_state <- c(population = 1)\n",
        "params <- c(b = 0.10, d = 0.01, K = 100)\n",
        "reactions <- list(\n",
        "  # propensity function                          effects             name for reaction\n",
        "  reaction(\"b * population\",                      c(population = +1), \"birth\"),\n",
        "  reaction(\"(d+(b-d)*population/K) * population\", c(population = -1), \"death\")\n",
        ")\n",
        "\n",
        "out <-\n",
        "  ssa(\n",
        "    initial_state = initial_state,\n",
        "    reactions = reactions,\n",
        "    params = params,\n",
        "    method = ssa_exact(),\n",
        "    final_time = 100,\n",
        "    census_interval = .001,\n",
        "    verbose = TRUE\n",
        "  )\n",
        "\n",
        "plot_ssa(out)"
      ],
      "execution_count": null,
      "outputs": []
    },
    {
      "cell_type": "markdown",
      "metadata": {},
      "source": [
        "## The Lotka-Voltera predator-prey model\n",
        "\n",
        "Models can easily be extended to add multiple state variables.\n",
        "\n",
        "One possible implementation of the Lotka-Volterra predator-prey model is to define two state variables, `prey` and `predator`, and three reactions, prey birth, predation, and predator death.\n"
      ]
    },
    {
      "cell_type": "code",
      "metadata": {},
      "source": [
        "initial_state <- c(prey = 1000, predators = 1000)\n",
        "params <- c(c1 = 10, c2 = 0.01, c3 = 10)\n",
        "reactions <- list(\n",
        "  #        propensity function     effects                       name for reaction\n",
        "  reaction(\"c1 * prey\",             c(prey = +1),                 \"prey_birth\"),\n",
        "  reaction(\"c2 * prey * predators\", c(prey = -1, predators = +1), \"predation\"),\n",
        "  reaction(\"c3 * predators\",        c(predators = -1),            \"predator_death\")\n",
        ")\n",
        "\n",
        "out <-\n",
        "  ssa(\n",
        "    initial_state = initial_state,\n",
        "    reactions = reactions,\n",
        "    params = params,\n",
        "    method = ssa_exact(),\n",
        "    final_time = 5,\n",
        "    census_interval = .001,\n",
        "    verbose = TRUE\n",
        "  )\n",
        "\n",
        "plot_ssa(out)"
      ],
      "execution_count": null,
      "outputs": []
    },
    {
      "cell_type": "markdown",
      "metadata": {},
      "source": [
        "Now we'd really like to sample several solutions from the model to get some idea of the variability.  There are many ways to do this.  We'll start by using a fairly simple *data frame* and a `for` loop."
      ]
    },
    {
      "cell_type": "code",
      "metadata": {},
      "source": [
        "res_pred_prey = as.data.frame(NULL)\n",
        "samples = 5\n",
        "for (run in 1:samples) {\n",
        "\tout <-\n",
        "\t\tssa(\n",
        "\t\t\tinitial_state = initial_state,\n",
        "\t\t\treactions = reactions,\n",
        "\t\t\tparams = params,\n",
        "\t\t\tmethod = ssa_exact(),\n",
        "\t\t\tfinal_time = 5,\n",
        "\t\t\tcensus_interval = .001,\n",
        "\t\t\tverbose = TRUE\n",
        "\t\t)\n",
        "\tres_pred_prey = rbind(\n",
        "\t  res_pred_prey,\n",
        "\t\tdata.frame(\n",
        "\t\t  time = out$time,\n",
        "\t\t\tprey = out$state[,'prey'],\n",
        "\t\t\tpredator = out$state[,'predators'],\n",
        "\t\t\trun = as.factor(run)\n",
        "\t\t)\n",
        "\t)\n",
        "}"
      ],
      "execution_count": null,
      "outputs": []
    },
    {
      "cell_type": "markdown",
      "metadata": {},
      "source": [
        "Note the use of `data.frame` at the end of each loop to wrap each simulation result in a data frame with four columns.  Then the use of `rbind` to append the new data frame to the previous one.  The first line sets up an empty data frame (`NULL`) to start with.\n",
        "\n",
        "The ggplot2 library provides some powerful plotting tools."
      ]
    },
    {
      "cell_type": "code",
      "metadata": {},
      "source": [
        "library(ggplot2)\n",
        "\n",
        "ggplot(res_pred_prey,aes(x=time,y=prey)) +\n",
        "  geom_step(aes(col=run))\n",
        "\n",
        "dev.new()\n",
        "ggplot(res_pred_prey,aes(x=time,y=predator)) +\n",
        "  geom_step(aes(col=run))"
      ],
      "execution_count": null,
      "outputs": []
    },
    {
      "cell_type": "markdown",
      "metadata": {},
      "source": [
        "Notice ggplot wants the data in a **long** format.  The easiest way to reshape dataframes is with the `tidyr` package.  You can install this on its own or as part of the `tidyverse` package."
      ]
    },
    {
      "cell_type": "code",
      "metadata": {},
      "source": [
        "library(tidyr)\n",
        "\n",
        "head(res_pred_prey)\n",
        "res_long = gather(res_pred_prey,species,population,predator:prey,factor_key=TRUE)\n",
        "head(res_long)"
      ],
      "execution_count": null,
      "outputs": []
    },
    {
      "cell_type": "markdown",
      "metadata": {},
      "source": [
        "The second and third inputs of `gather` are the column names for the long format,  and the fourth input is the range of columns from the **wide** data frame (`res_pred_prey`) to reshape.\n",
        "\n",
        "We can use ggplot to assign colours and line-types by `run` and `species`"
      ]
    },
    {
      "cell_type": "code",
      "metadata": {},
      "source": [
        "ggplot(res_long,aes(x=time,y=population,linetype=run,col=species)) + geom_step()"
      ],
      "execution_count": null,
      "outputs": []
    },
    {
      "cell_type": "markdown",
      "metadata": {},
      "source": [
        "The result is interesting, but probably too much for one plot.\n",
        "We can put each plot in a panel using `facet_grid` or `facet_plot`."
      ]
    },
    {
      "cell_type": "code",
      "metadata": {},
      "source": [
        "ggplot(\n",
        "\tres_long,\n",
        "\taes(x=time,y=population,col=species)\n",
        "\t) + \n",
        "geom_step() +\n",
        "facet_wrap(~run)"
      ],
      "execution_count": null,
      "outputs": []
    }
  ],
  "metadata": {
    "kernelspec": {
      "display_name": "R",
      "language": "R",
      "name": "ir"
    }
  },
  "nbformat": 4,
  "nbformat_minor": 4
}