{
  "cells": [
    {
      "cell_type": "raw",
      "metadata": {},
      "source": [
        "---\n",
        "title: Introduction to R\n",
        "---"
      ]
    },
    {
      "cell_type": "markdown",
      "metadata": {},
      "source": [
        "We will use R for demonstrations in class,  but you are free to use python, matlab or julia if you wish.\n",
        "\n",
        "# obtaining and installing R\n",
        "\n",
        "- Follow instructions on the [r-project website](https://www.r-project.org/)\n",
        "- Alternately, download and set up [R studio](https://www.rstudio.com/products/rstudio/download/)\n",
        "\n",
        "# Getting help\n",
        "\n",
        "- for help for on any command type `?command` at the prompt.  For\n",
        "example `?rbinom` will give you a summary of the command for\n",
        "generating a string of random numbers from a binomial distribution.\n",
        "(See <https://www.r-project.org/help.html> for more details.) \n",
        "- If you have a graphical interface, there is probably also a HELP button.\n",
        "- and of course you will want to keep the r manuals\n",
        "  <https://cran.r-project.org/manuals.html> close at hand\n",
        "\n",
        "# Simulating a simple stochastic process\n",
        "\n",
        "To start,  we will use R to generate some sample paths from a simple\n",
        "stochastic process.   Let $N(t)$ be the number of individuals in\n",
        "the popuation at time $t$, $t\\in\\{0,1,\\dots\\}$, and suppose in any\n",
        "given time step, any given individual will give birth with\n",
        "probability $b$.  We will need a vector to store our resulting\n",
        "populations, and we should specifiy the length of this vector in\n",
        "advance.  We also need some initial population, say $N(0) = N_0$.\n",
        "First, set up a vector to hold the results."
      ]
    },
    {
      "cell_type": "code",
      "metadata": {},
      "source": [
        "T = 10\n",
        "No = 20\n",
        "N = rep(0,length=T)"
      ],
      "execution_count": null,
      "outputs": []
    },
    {
      "cell_type": "markdown",
      "metadata": {},
      "source": [
        "`rep` stands for replicate.  The result is a vector of zeros of length $T$.\n",
        "\n",
        "Next, initialize the first entry of $N$ with initial value for the simulation."
      ]
    },
    {
      "cell_type": "code",
      "metadata": {},
      "source": [
        "N[1] = No"
      ],
      "execution_count": null,
      "outputs": []
    },
    {
      "cell_type": "markdown",
      "metadata": {},
      "source": [
        "We next want to generate some births.  Since we've assumed all individuals are reproducing independently, we model the number of births in the first time interval by a binomial distribution with parameters $N$ and $b$.  We assign a value to $b$ and then use R's `rbinom` command."
      ]
    },
    {
      "cell_type": "code",
      "metadata": {},
      "source": [
        "b = .2\n",
        "births = rbinom(1,N[1],b)"
      ],
      "execution_count": null,
      "outputs": []
    },
    {
      "cell_type": "markdown",
      "metadata": {},
      "source": [
        "To repeat this for the rest of the times, we set up a loop."
      ]
    },
    {
      "cell_type": "code",
      "metadata": {},
      "source": [
        "for (t in 1:(T-1)) {\n",
        "  N[t+1] = N[t] + rbinom(1,N[t],b)\n",
        "}"
      ],
      "execution_count": null,
      "outputs": []
    },
    {
      "cell_type": "markdown",
      "metadata": {},
      "source": [
        "R is built to work with vectors.  It is just as easy, and\n",
        "surprisingly, almost as quick to generate many many sample paths\n",
        "as it is to generate one.  To store the results, we set up a\n",
        "matrix with $S$ columns, where $S$ is the number of sample paths.\n",
        "The resulting code is as follows.\n"
      ]
    },
    {
      "cell_type": "code",
      "metadata": {},
      "source": [
        " T = 10\n",
        " S = 5\n",
        " N = matrix(0,nrow = T, ncol = S)\n",
        " N[1,] = 20\n",
        " b = .2\n",
        " for (t in 1:(T-1)) {\n",
        "     N[t+1,] = N[t,] + rbinom(S,N[t,],b)\n",
        "   }"
      ],
      "execution_count": null,
      "outputs": []
    },
    {
      "cell_type": "markdown",
      "metadata": {},
      "source": [
        "The third line sets up a matrix with `T` rows, and `S` columns and fills it with zeros.  \n",
        "\n",
        "The fourth line initializes the first row of the matrix with initial values for the simulations.  Note the slight difference from matlab's notation.\n",
        "\n",
        "Notice the first argument to `rbinom` is the number of times we sample the binomial distribution.  \n",
        "\n",
        "If you type `N` again,  you will see that the numbers increase as you move down the columns of the matrix.  Each column represents on sample path of our simulation."
      ]
    },
    {
      "cell_type": "code",
      "metadata": {},
      "source": [
        "head(N)"
      ],
      "execution_count": null,
      "outputs": []
    },
    {
      "cell_type": "markdown",
      "metadata": {},
      "source": [
        "This is all very nice,  but for larger simulations, it just won't do to look at the matrix of numbers.  We need some plots.  Here are a few useful ones to start with\n",
        "\n",
        "  - plot the first column against the row number `plot(N[,1])`\n",
        "\n",
        "  - add some axis labels and a nice  title"
      ]
    },
    {
      "cell_type": "code",
      "metadata": {},
      "source": [
        "plot(N[,1], \n",
        "     xlab=\"Time\",ylab=\"Population, N\",\n",
        "     main=\"One sample path of the simple birth process\"\n",
        "\t\t )"
      ],
      "execution_count": null,
      "outputs": []
    },
    {
      "cell_type": "markdown",
      "metadata": {},
      "source": [
        "  - it is also possible to add the title and labels after creating the plot:"
      ]
    },
    {
      "cell_type": "code",
      "metadata": {},
      "source": [
        "plot(N[,1],ann=FALSE) \n",
        "title(xlab=\"Time\",\n",
        "ylab=\"Population, N\", \n",
        "main=\"One sample path of the simple birth process\")"
      ],
      "execution_count": null,
      "outputs": []
    },
    {
      "cell_type": "markdown",
      "metadata": {},
      "source": [
        "    Notice that we needed to pass `ann=FALSE` to the plot command to suppress the default axis labels\n",
        "\n",
        "  - of course you might have noticed that the time  axis isn't really the time, it is the index of the row.  What we really want is to start at t=0.  What we can do is set up a vector `times` that contains the times corresponding to each index and pass that to the plot routine.  In this case this is just a shift down by 1."
      ]
    },
    {
      "cell_type": "code",
      "metadata": {},
      "source": [
        "times = 1:T - 1\n",
        "plot(times,N[,1],ann=FALSE) \n",
        "title(xlab=\"Time\", \n",
        "ylab=\"Population, N\", \n",
        "main=\"One sample path of the simple birth process\")"
      ],
      "execution_count": null,
      "outputs": []
    },
    {
      "cell_type": "markdown",
      "metadata": {},
      "source": [
        "  - plot all the columns on a single plot"
      ]
    },
    {
      "cell_type": "code",
      "metadata": {},
      "source": [
        "matplot(times,N,ann=FALSE)\n",
        "title(xlab=\"Time\", \n",
        "  ylab=\"Population, N\", \n",
        "  main=\"Many sample paths of the simple birth process\")"
      ],
      "execution_count": null,
      "outputs": []
    },
    {
      "cell_type": "markdown",
      "metadata": {},
      "source": [
        "  - plot the first, third and fifth columns on a single plot"
      ]
    },
    {
      "cell_type": "code",
      "metadata": {},
      "source": [
        "matplot(times,N[,c(1,3,5)],ann=FALSE)\n",
        "title(xlab=\"Time\", \n",
        "  ylab=\"Population, N\", \n",
        "  main=\"Many sample paths of the simple birth process\")"
      ],
      "execution_count": null,
      "outputs": []
    },
    {
      "cell_type": "markdown",
      "metadata": {},
      "source": [
        "These values for the initial population and the probability of a birth in unit time are both too high for longer  simulations.  Change them to something more reasonable, and rerun the code with larger `S` and `T`, say 20 and 1000.\n",
        "\n",
        "But wait,  we don't want to be typing everything in again everytime we change parameters.  That's just crazy.  What we do is wrap the whole thing up as a function and put it in a script.  Save the following as a file, call it `birthprocess.R`, or whatever you like."
      ]
    },
    {
      "cell_type": "code",
      "metadata": {},
      "source": [
        "birthprocess = function(b = 0.01, No = 2, T = 200, S = 10) {\n",
        "    N = matrix(0.0,nrow = T, ncol = S)\n",
        "    N[1,] = No\n",
        "    for (t in 1:(T-1)) {\n",
        "        N[t+1,] = N[t,] + rbinom(S,N[t,],b)\n",
        "      }\n",
        "    return(N)\n",
        "}"
      ],
      "execution_count": null,
      "outputs": []
    },
    {
      "cell_type": "markdown",
      "metadata": {},
      "source": [
        "To source our script from a prompt, enter `source(\"birthprocess.R\")`\n",
        "\n",
        "You may need to explore your filesystem to learn where you saved the file to.  use the command `getwd()`\n",
        "\n",
        "to find out what your working directory is.\n",
        "\n",
        "To call our function and assign the results to the matrix `N` we enter the following at the prompt"
      ]
    },
    {
      "cell_type": "code",
      "metadata": {},
      "source": [
        "N = birthprocess(b=0.02,No=2,T=1000,S=20)"
      ],
      "execution_count": null,
      "outputs": []
    },
    {
      "cell_type": "markdown",
      "metadata": {},
      "source": [
        "Notice that we have assigned default values to the arguments of the function.   This isn't necessary, but it can be useful.\n",
        "\n",
        "By default, a function in R returns the value of the last evaluated expression.  This seems to mean the use of the `return` statement is a matter of preference.\n",
        "\n",
        "# prettier plots (with R's basic plot functions)\n",
        "\n",
        "If we want to put more than two or three sample paths on a single plot, then we need a way to shrink the point size.  There are a few ways to do this.   The simplest for our purposes is to set the `pch` option to something else, like a dot instead of a circle."
      ]
    },
    {
      "cell_type": "code",
      "metadata": {},
      "source": [
        "times = 0:(dim(N)[1]-1)\n",
        "matplot(times,N, pch=\".\",ann=FALSE)\n",
        "title(xlab=\"Time\", \n",
        "      ylab=\"Population, N\", \n",
        "      main=\"Many sample paths of the simple birth process\")"
      ],
      "execution_count": null,
      "outputs": []
    },
    {
      "cell_type": "markdown",
      "metadata": {},
      "source": [
        "To change to  a log scale, use the `log` option which you can set to either `log=\"x\"` or `log=\"y\"`:"
      ]
    },
    {
      "cell_type": "code",
      "metadata": {},
      "source": [
        "matplot(times,N[,], pch=\".\", log = \"y\",ann=FALSE)"
      ],
      "execution_count": null,
      "outputs": []
    },
    {
      "cell_type": "markdown",
      "metadata": {},
      "source": [
        "If you don't have lots and lots of points, the dots might not show up.  you can try `o` or `*` or some other symbol.\n",
        "Try each of these variations and see if you can deduce the meaning of the options\n"
      ]
    },
    {
      "cell_type": "code",
      "metadata": {},
      "source": [
        "matplot(times,N, col=1, lty = \"dashed\", type=\"l\",log = \"y\")"
      ],
      "execution_count": null,
      "outputs": []
    },
    {
      "cell_type": "code",
      "metadata": {},
      "source": [
        "matplot(times,N,ann=FALSE, \n",
        "        col=c(\"red\",\"green\",\"blue\"), \n",
        "  lty = c(\"dashed\",\"dotdash\"), \n",
        "  type=\"l\",\n",
        "  log = \"y\")"
      ],
      "execution_count": null,
      "outputs": []
    },
    {
      "cell_type": "code",
      "metadata": {},
      "source": [
        "matplot(times,N,ann=FALSE,\n",
        "        col=c(\"red\",\"green\",\"blue\"), \n",
        "  lty = \"393C3F\",\n",
        "  type=\"l\",\n",
        "  log = \"y\")"
      ],
      "execution_count": null,
      "outputs": []
    },
    {
      "cell_type": "markdown",
      "metadata": {},
      "source": [
        "There are several ways to add things to plots.  \n",
        "You can try the `lines` or `curves` functions.  For example:"
      ]
    },
    {
      "cell_type": "code",
      "metadata": {},
      "source": [
        "lines(times,No*exp(b*times))"
      ],
      "execution_count": null,
      "outputs": []
    },
    {
      "cell_type": "markdown",
      "metadata": {},
      "source": [
        "adds an exponential curve to the plot."
      ]
    },
    {
      "cell_type": "code",
      "metadata": {},
      "source": [
        "    curve(No*exp(b*x),add=TRUE)"
      ],
      "execution_count": null,
      "outputs": []
    },
    {
      "cell_type": "markdown",
      "metadata": {},
      "source": [
        "Does  the same thing.\n",
        "\n",
        "You can make the line thicker."
      ]
    },
    {
      "cell_type": "code",
      "metadata": {},
      "source": [
        "    lines(times,No*exp(b*times),lwd=2)"
      ],
      "execution_count": null,
      "outputs": []
    },
    {
      "cell_type": "markdown",
      "metadata": {},
      "source": [
        "Or you can make it a red, double-dashed line."
      ]
    },
    {
      "cell_type": "code",
      "metadata": {},
      "source": [
        "    lines(times,No*exp(b*times),lwd=2,lty=\"twodash\",col='red')"
      ],
      "execution_count": null,
      "outputs": []
    },
    {
      "cell_type": "markdown",
      "metadata": {},
      "source": [
        "Note that the  variants `matpoints` and `matlines` will also add points and lines to existing plots.  These are probably equivalent to adding `add=TRUE` to `matplot`.\n",
        "\n",
        "# Prettier plots with ggplot\n",
        "\n",
        "The `ggplot2` library provides a fancier plotting interface. \n",
        "To use the package,  we need to mangle our data into a long format.\n",
        "You could use the `tidyr` package, but for now, lets play a bit with data frames and `rep`.\n",
        "\n",
        "Assuming we have our data in the matrix `N` whose columns are separate simulations,  we rearrange it into a long format as follows."
      ]
    },
    {
      "cell_type": "code",
      "metadata": {},
      "source": [
        "T = dim(N)[1]\n",
        "S = dim(N)[2]\n",
        "df = data.frame(\n",
        "       time = rep(1:T, times=S), \n",
        " \t\t   run = as.factor(rep(1:S,each=T)),\n",
        "\t\t\t population = as.vector(N)\n",
        "\t\t\t )"
      ],
      "execution_count": null,
      "outputs": []
    },
    {
      "cell_type": "markdown",
      "metadata": {},
      "source": [
        "The `times` and `each` arguments to `rep` indicate the number of times to replicate the vectors `1:T` and `1:S`.  One instance repeats the entire vector `S` times and the other repeats each element `T` times.  `as.factor` essentially adds some information to the vector `run` so that ggplot will treat the entries as factors.  We'll see why when we play with the plots.  `as.vector` simply treats the data in the matrix `N` as if it were a vector.  R stores matrices in column-order, so this effectively stacks the columns into one long vector of length `TxS`.\n",
        "\n",
        "Use `str(df)` to see the structure of the data frame `df`"
      ]
    },
    {
      "cell_type": "code",
      "metadata": {},
      "source": [
        "str(df)"
      ],
      "execution_count": null,
      "outputs": []
    },
    {
      "cell_type": "markdown",
      "metadata": {},
      "source": [
        "If this is your fist use of ggplot you may need to install the package.  Use Rstudio's graphical interface, or try `install.packages(\"ggplot2\")` if you aren't using a fancy interface.\n",
        "\n",
        "First we'll source the package.  Then create a simple plot."
      ]
    },
    {
      "cell_type": "code",
      "metadata": {},
      "source": [
        "library(ggplot2)\n",
        "\n",
        "ggplot(df,aes(x=time,y=population)) + \n",
        "\tgeom_line(aes(col=run)) +\n",
        "\tscale_y_continuous(trans=\"log10\")"
      ],
      "execution_count": null,
      "outputs": []
    },
    {
      "cell_type": "markdown",
      "metadata": {},
      "source": [
        "ggplot builds the plot up in layers.  The `ggplot` call inputs the data and sets up the *aesthetics*.  I.e.,  which columns are used. The call to `goem_line` instructs ggplot to colour the curves according to the factor `run`.  ggplot is powerful,  but with power comes complication.\n"
      ]
    }
  ],
  "metadata": {
    "kernelspec": {
      "display_name": "R",
      "language": "R",
      "name": "ir"
    }
  },
  "nbformat": 4,
  "nbformat_minor": 4
}